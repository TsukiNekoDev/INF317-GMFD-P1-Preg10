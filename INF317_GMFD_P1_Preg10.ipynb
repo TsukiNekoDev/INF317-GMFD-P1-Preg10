{
  "nbformat": 4,
  "nbformat_minor": 0,
  "metadata": {
    "colab": {
      "provenance": [],
      "authorship_tag": "ABX9TyN5OFIM62GxrtTItxq4K2vE",
      "include_colab_link": true
    },
    "kernelspec": {
      "name": "python3",
      "display_name": "Python 3"
    },
    "language_info": {
      "name": "python"
    }
  },
  "cells": [
    {
      "cell_type": "markdown",
      "metadata": {
        "id": "view-in-github",
        "colab_type": "text"
      },
      "source": [
        "<a href=\"https://colab.research.google.com/github/TsukiNekoDev/INF317-GMFD-P1-Preg10/blob/main/INF317_GMFD_P1_Preg10.ipynb\" target=\"_parent\"><img src=\"https://colab.research.google.com/assets/colab-badge.svg\" alt=\"Open In Colab\"/></a>"
      ]
    },
    {
      "cell_type": "markdown",
      "source": [
        "Genere la serie 2, 4, 6, 8, 10, 12, 14, 16, 18… en M vectores(procesadores) para N términos con Mutiprocessing."
      ],
      "metadata": {
        "id": "uUA-AENOw47l"
      }
    },
    {
      "cell_type": "code",
      "execution_count": 3,
      "metadata": {
        "colab": {
          "base_uri": "https://localhost:8080/"
        },
        "id": "09Q2Y4bew4LV",
        "outputId": "211d1d60-00ec-4021-e437-d8ae00ad99a7"
      },
      "outputs": [
        {
          "output_type": "stream",
          "name": "stdout",
          "text": [
            "[2, 4, 6, 8, 10, 12, 14, 16, 18, 20, 22, 24, 26, 28, 30, 32, 34, 36, 38, 40, 42, 44, 46, 48, 50, 52, 54, 56, 58, 60, 62, 64, 66, 68, 70, 72, 74, 76, 78, 80, 82, 84, 86, 88, 90, 92, 94, 96, 98, 100, 102, 104, 106, 108, 110, 112, 114, 116, 118, 120, 122, 124, 126, 128, 130, 132, 134, 136, 138, 140, 142, 144, 146, 148, 150, 152, 154, 156, 158, 160, 162, 164, 166, 168, 170, 172, 174, 176, 178, 180, 182, 184, 186, 188, 190, 192, 194, 196, 198, 200, 202, 204, 206, 208, 210, 212, 214, 216, 218, 220, 222, 224, 226, 228, 230, 232, 234, 236, 238, 240, 242, 244, 246, 248, 250, 252, 254, 256, 258, 260, 262, 264, 266, 268, 270, 272, 274, 276, 278, 280, 282, 284, 286, 288, 290, 292, 294, 296, 298, 300, 302, 304, 306, 308, 310, 312, 314, 316, 318, 320, 322, 324, 326, 328, 330, 332, 334, 336, 338, 340, 342, 344, 346, 348, 350, 352, 354, 356, 358, 360, 362, 364, 366, 368, 370, 372, 374, 376, 378, 380, 382, 384, 386, 388, 390, 392, 394, 396, 398, 400]\n"
          ]
        }
      ],
      "source": [
        "import multiprocessing as mp\n",
        "from multiprocessing import Pool\n",
        "\n",
        "def gserie_partir(ii, ff, t):\n",
        "    return [i for i in range(ii, ff, t)]\n",
        "\n",
        "\n",
        "if __name__ == \"__main__\":\n",
        "    N = 200\n",
        "    M = mp.cpu_count()\n",
        "\n",
        "    tp = N // M\n",
        "    resto = N % M\n",
        "    vec = []\n",
        "    ini = 2\n",
        "\n",
        "    for i in range(M):\n",
        "        cont = tp\n",
        "        if i == M - 1:\n",
        "            cont += resto\n",
        "        fin = ini + cont * 2\n",
        "        vec.append((ini, fin, 2))\n",
        "        ini = fin\n",
        "\n",
        "        pool = Pool()\n",
        "        res = pool.starmap(gserie_partir, vec)\n",
        "\n",
        "    vserie = []\n",
        "    for part in res:\n",
        "        vserie.extend(part)\n",
        "\n",
        "    print(vserie)"
      ]
    }
  ]
}